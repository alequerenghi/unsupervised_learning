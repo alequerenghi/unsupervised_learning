{
 "cells": [
  {
   "cell_type": "markdown",
   "metadata": {},
   "source": [
    "# k-means\n",
    "You can use external libraries for linear algebra operations but you are expected\n",
    "to write your own algorithms.\n",
    "## Exercise 1\n",
    "- Download the [breast cancer.csv](https://archive.ics.uci.edu/ml/datasets/Breast+Cancer) dataset and preprocess it by using `sklearn.preprocessing.OrdinalEncoder` to properly deal with the categorical variables.\n",
    "- Write your own function to compute the Mutual Information Criterion.\n",
    "- Compute the Mutual Information between the covariates and the response variable (stored in the last column).\n",
    "\n",
    "Which features appear to be the most significant?"
   ]
  },
  {
   "cell_type": "code",
   "execution_count": 1,
   "metadata": {},
   "outputs": [],
   "source": [
    "import pandas as pd\n",
    "import numpy as np\n",
    "import matplotlib.pyplot as plt\n",
    "from sklearn.preprocessing import OrdinalEncoder\n",
    "from unsupervised_learning import mutual_information_criterion"
   ]
  },
  {
   "cell_type": "code",
   "execution_count": null,
   "metadata": {},
   "outputs": [
    {
     "data": {
      "text/plain": [
       "array([       nan, 0.00138741,        nan,        nan, 0.03702975,\n",
       "       0.05337916, 0.00172524,        nan, 0.01789638])"
      ]
     },
     "execution_count": 16,
     "metadata": {},
     "output_type": "execute_result"
    }
   ],
   "source": [
    "df = pd.read_csv(\"Unsupervised_Learning_2024/Datasets/breast-cancer.csv\")\n",
    "encoder = OrdinalEncoder(dtype=int)\n",
    "encoded = encoder.fit(np.array(df))\n",
    "y = encoder.fit_transform(y)\n",
    "mutual_information_criterion(encoded, y)\n"
   ]
  },
  {
   "cell_type": "markdown",
   "metadata": {},
   "source": [
    "## Exercise 2\n",
    "- Use the dataset s3.txt available in the Datasets folder.\n",
    "- Write your own implementation of the k-means clustering algorithm.\n",
    "- Test your implementation with 10 different initializations and k = 15.\n",
    "- Plot the clustering results for which the loss is, respectively, the highest and the lowest."
   ]
  },
  {
   "cell_type": "code",
   "execution_count": null,
   "metadata": {},
   "outputs": [],
   "source": [
    "df = np."
   ]
  },
  {
   "cell_type": "markdown",
   "metadata": {},
   "source": [
    "## Notes\n",
    "k-means can be quite slow if not programmed correctly. Of course, the goal of the exercise is not to produce the most efficient code (ie. it’s ok if it is a little slow) but for you to understand the mechanisms of the algorithms. In practical application, you would likely use Cython as programming tool other than Python directly (or use already-made implementations).  \n",
    "Nonetheless, some useful notes you could take into account while programming are the following:\n",
    "- use numpy\n",
    "- try to use vectorization when possible instead of for loops, as it increases the efficiency of the code"
   ]
  }
 ],
 "metadata": {
  "kernelspec": {
   "display_name": ".venv",
   "language": "python",
   "name": "python3"
  },
  "language_info": {
   "codemirror_mode": {
    "name": "ipython",
    "version": 3
   },
   "file_extension": ".py",
   "mimetype": "text/x-python",
   "name": "python",
   "nbconvert_exporter": "python",
   "pygments_lexer": "ipython3",
   "version": "3.12.7"
  }
 },
 "nbformat": 4,
 "nbformat_minor": 2
}
